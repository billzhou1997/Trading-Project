{
 "cells": [
  {
   "cell_type": "code",
   "execution_count": 1,
   "id": "61aa0e84",
   "metadata": {},
   "outputs": [],
   "source": [
    "import webbrowser\n",
    "import time\n",
    "import json\n",
    "import pandas as pd\n",
    "import alpaca_trade_api as tradeapi\n",
    "from alpaca_trade_api.rest import REST, TimeFrame"
   ]
  },
  {
   "cell_type": "code",
   "execution_count": 2,
   "id": "f9c9b4bc",
   "metadata": {},
   "outputs": [],
   "source": [
    "payload=pd.read_html('https://en.wikipedia.org/wiki/Nasdaq-100')\n",
    "df = payload[4]\n",
    "#print(df['Ticker'])\n",
    "symb_list=df['Ticker'].values.tolist()\n",
    "#print(symb_list)"
   ]
  },
  {
   "cell_type": "code",
   "execution_count": 3,
   "id": "ea2f3831",
   "metadata": {},
   "outputs": [],
   "source": [
    "SEC_KEY = 'IH64H3nW41oQYp60wu2MWx2qM5DGH3SGitNqPIJb'\n",
    "PUB_KEY = 'PKAAIHDW71UK328VXKX0'\n",
    "BASE_URL = 'https://paper-api.alpaca.markets' # This is the base URL for paper trading\n",
    "api = tradeapi.REST(key_id= PUB_KEY, secret_key=SEC_KEY, base_url=BASE_URL) # For real trading, don't enter a base_url\n"
   ]
  },
  {
   "cell_type": "code",
   "execution_count": 10,
   "id": "fc407fbc",
   "metadata": {},
   "outputs": [],
   "source": [
    "data=api.get_bars(symb_list, TimeFrame.Day, \"2022-07-25\",  \"2022-07-29\", limit=9999, adjustment='raw')\n",
    "pd_data=data.df\n",
    "#print(pd_data.head(10))\n"
   ]
  },
  {
   "cell_type": "code",
   "execution_count": 5,
   "id": "cc9b0d91",
   "metadata": {},
   "outputs": [],
   "source": [
    "num_of_days=5\n",
    "cash=100000\n",
    "budget_limit=cash/10"
   ]
  },
  {
   "cell_type": "code",
   "execution_count": 6,
   "id": "2dccce8c",
   "metadata": {},
   "outputs": [
    {
     "name": "stdout",
     "output_type": "stream",
     "text": [
      "    symb   price    change  quantity\n",
      "0    PDD   49.01 -0.135196       204\n",
      "1  CMCSA   37.52 -0.120444       266\n",
      "2   CHTR  432.10 -0.101842        23\n",
      "3   INTC   36.31 -0.073333       275\n",
      "4     JD   59.50 -0.055967       168\n"
     ]
    }
   ],
   "source": [
    "subset=pd_data[['symbol','close']]\n",
    "price_list=[]\n",
    "symbol_list=[]\n",
    "change_list=[]\n",
    "quantity_list=[]\n",
    "for i in range(len(symb_list)):\n",
    "    dif=subset['close'][5*i+4]-subset['close'][5*i]\n",
    "    avg=sum(subset['close'][5*i:5*i+5])/num_of_days\n",
    "    symbol_list.append(subset['symbol'][5*i])\n",
    "    price_list.append(subset['close'][5*i+4])\n",
    "    change_list.append(dif/avg)\n",
    "    quantity_list.append(int(budget_limit/subset['close'][5*i+4]))\n",
    "#print(change_dict)\n",
    "subset=pd.DataFrame(list(zip(symbol_list,price_list,change_list,quantity_list)),columns=['symb','price','change','quantity'])\n",
    "#print(change_dict)\n",
    "sorted_subset=subset.sort_values(by=['change'])\n",
    "\n",
    "sorted_subset = sorted_subset.reset_index(drop=True)\n",
    "print(sorted_subset.head())"
   ]
  },
  {
   "cell_type": "code",
   "execution_count": 43,
   "id": "dc6dbd84",
   "metadata": {},
   "outputs": [
    {
     "ename": "TypeError",
     "evalue": "setLevel() missing 1 required positional argument: 'self'",
     "output_type": "error",
     "traceback": [
      "\u001b[1;31m---------------------------------------------------------------------------\u001b[0m",
      "\u001b[1;31mTypeError\u001b[0m                                 Traceback (most recent call last)",
      "\u001b[1;32m<ipython-input-43-4605f5865a34>\u001b[0m in \u001b[0;36m<module>\u001b[1;34m\u001b[0m\n\u001b[0;32m      1\u001b[0m \u001b[1;32mimport\u001b[0m \u001b[0mlogging\u001b[0m\u001b[1;33m\u001b[0m\u001b[1;33m\u001b[0m\u001b[0m\n\u001b[1;32m----> 2\u001b[1;33m \u001b[0mlogging\u001b[0m\u001b[1;33m.\u001b[0m\u001b[0mLogger\u001b[0m\u001b[1;33m.\u001b[0m\u001b[0msetLevel\u001b[0m\u001b[1;33m(\u001b[0m\u001b[0mlevel\u001b[0m\u001b[1;33m=\u001b[0m\u001b[1;34m\"INFO\"\u001b[0m\u001b[1;33m)\u001b[0m\u001b[1;33m\u001b[0m\u001b[1;33m\u001b[0m\u001b[0m\n\u001b[0m",
      "\u001b[1;31mTypeError\u001b[0m: setLevel() missing 1 required positional argument: 'self'"
     ]
    }
   ],
   "source": [
    "import logging\n",
    "logging.Logger.setLevel(level=\"INFO\")"
   ]
  },
  {
   "cell_type": "code",
   "execution_count": 45,
   "id": "8d1bdedc",
   "metadata": {},
   "outputs": [
    {
     "name": "stderr",
     "output_type": "stream",
     "text": [
      "WARNING:root:cba\n"
     ]
    }
   ],
   "source": [
    "b=\"cba\"\n",
    "logging.warning(b)"
   ]
  },
  {
   "cell_type": "code",
   "execution_count": null,
   "id": "fe790afe",
   "metadata": {},
   "outputs": [],
   "source": [
    "?api.submit_order"
   ]
  },
  {
   "cell_type": "code",
   "execution_count": 8,
   "id": "baef6d9f",
   "metadata": {},
   "outputs": [],
   "source": [
    "for index, row in sorted_subset.iterrows():\n",
    "    if index<=5:\n",
    "        api.submit_order(\n",
    "  symbol=row[\"symb\"], # Replace with the ticker of the stock you want to buy\n",
    "  qty=row[\"quantity\"],\n",
    "  side='buy',\n",
    "  type='limit', \n",
    "  limit_price=str(row[\"price\"]),\n",
    "  #notional='10000'\n",
    "  #time_in_force='gtc' # Good 'til cancelled\n",
    ")\n"
   ]
  },
  {
   "cell_type": "code",
   "execution_count": null,
   "id": "fade4e1c",
   "metadata": {},
   "outputs": [],
   "source": [
    "?api.submit_order"
   ]
  },
  {
   "cell_type": "code",
   "execution_count": 24,
   "id": "fbdbccdd",
   "metadata": {},
   "outputs": [],
   "source": [
    "def place_order(sorted_subset):\n",
    "    for index, row in sorted_subset.iterrows():\n",
    "        if index<5:\n",
    "            api.submit_order(\n",
    "              symbol=row[\"symb\"], # Replace with the ticker of the stock you want to buy\n",
    "              qty=row[\"quantity\"],\n",
    "              side='buy',\n",
    "              type='limit', \n",
    "              limit_price=str(row[\"price\"]),\n",
    "              #stop_price=str(row[\"price\"]*1.001),\n",
    "              time_in_force='day' # Good 'til cancelled\n",
    ")\n",
    "def cancel_all_order():\n",
    "    api.cancel_all_orders()\n",
    "    "
   ]
  },
  {
   "cell_type": "code",
   "execution_count": null,
   "id": "2751c89a",
   "metadata": {},
   "outputs": [],
   "source": [
    "1/2"
   ]
  },
  {
   "cell_type": "code",
   "execution_count": 27,
   "id": "9ffa8fd7",
   "metadata": {},
   "outputs": [],
   "source": [
    "api.cancel_all_orders()\n",
    "for i in range(5):\n",
    "    place_order(sorted_subset)\n",
    "    time.sleep(10)\n",
    "    cancel_all_order()\n",
    "    time.sleep(10)"
   ]
  },
  {
   "cell_type": "code",
   "execution_count": null,
   "id": "21d7a78c",
   "metadata": {},
   "outputs": [],
   "source": [
    "?api.cancel_all_orders"
   ]
  },
  {
   "cell_type": "code",
   "execution_count": null,
   "id": "dfed5fbb",
   "metadata": {},
   "outputs": [],
   "source": [
    "orders=api.list_orders()\n",
    "for i in range(len(orders)):\n",
    "    order_dict=orders[i]._raw\n",
    "    \n",
    "    #print(order_dict['id'])\n",
    "    api.cancel_order(order_dict['id'])\n",
    "    time.sleep(5)"
   ]
  },
  {
   "cell_type": "code",
   "execution_count": null,
   "id": "ca1c0241",
   "metadata": {},
   "outputs": [],
   "source": [
    "api.cancel_order('e6c9fb45-f5ff-4e06-aa6a-f3fc8a4895c2')"
   ]
  },
  {
   "cell_type": "code",
   "execution_count": null,
   "id": "4b834737",
   "metadata": {},
   "outputs": [],
   "source": [
    "account=api.get_account()\n",
    "print(account._raw)\n",
    "#print(account)"
   ]
  },
  {
   "cell_type": "code",
   "execution_count": 34,
   "id": "594d03e2",
   "metadata": {},
   "outputs": [
    {
     "name": "stdout",
     "output_type": "stream",
     "text": [
      "[Order({   'asset_class': 'us_equity',\n",
      "    'asset_id': 'b0b6dd9d-8b9b-48a9-ba46-b9d54906e415',\n",
      "    'canceled_at': None,\n",
      "    'client_order_id': 'a31f81fa-1416-487d-883d-0b947ba7ad36',\n",
      "    'created_at': '2022-08-01T19:56:38.207002Z',\n",
      "    'expired_at': None,\n",
      "    'extended_hours': False,\n",
      "    'failed_at': None,\n",
      "    'filled_at': None,\n",
      "    'filled_avg_price': None,\n",
      "    'filled_qty': '0',\n",
      "    'hwm': None,\n",
      "    'id': '54f0217f-aa60-4e7c-a23f-30bf8cf12db4',\n",
      "    'legs': None,\n",
      "    'limit_price': '200',\n",
      "    'notional': None,\n",
      "    'order_class': '',\n",
      "    'order_type': 'limit',\n",
      "    'qty': '1',\n",
      "    'replaced_at': None,\n",
      "    'replaced_by': None,\n",
      "    'replaces': None,\n",
      "    'side': 'sell',\n",
      "    'source': 'access_key',\n",
      "    'status': 'new',\n",
      "    'stop_price': None,\n",
      "    'submitted_at': '2022-08-01T19:56:38.206386Z',\n",
      "    'subtag': None,\n",
      "    'symbol': 'AAPL',\n",
      "    'time_in_force': 'gtc',\n",
      "    'trail_percent': None,\n",
      "    'trail_price': None,\n",
      "    'type': 'limit',\n",
      "    'updated_at': '2022-08-01T19:56:38.215772Z'}), Order({   'asset_class': 'us_equity',\n",
      "    'asset_id': 'b0b6dd9d-8b9b-48a9-ba46-b9d54906e415',\n",
      "    'canceled_at': None,\n",
      "    'client_order_id': 'efb753e3-f115-46ea-a287-55b5bfe5891d',\n",
      "    'created_at': '2022-08-01T19:56:15.692762Z',\n",
      "    'expired_at': None,\n",
      "    'extended_hours': False,\n",
      "    'failed_at': None,\n",
      "    'filled_at': None,\n",
      "    'filled_avg_price': None,\n",
      "    'filled_qty': '0',\n",
      "    'hwm': None,\n",
      "    'id': '3b492d3a-63d5-4bef-95f9-faa4a50ec82e',\n",
      "    'legs': None,\n",
      "    'limit_price': '200',\n",
      "    'notional': None,\n",
      "    'order_class': '',\n",
      "    'order_type': 'limit',\n",
      "    'qty': '1',\n",
      "    'replaced_at': None,\n",
      "    'replaced_by': None,\n",
      "    'replaces': None,\n",
      "    'side': 'sell',\n",
      "    'source': 'access_key',\n",
      "    'status': 'new',\n",
      "    'stop_price': None,\n",
      "    'submitted_at': '2022-08-01T19:56:15.692116Z',\n",
      "    'subtag': None,\n",
      "    'symbol': 'AAPL',\n",
      "    'time_in_force': 'gtc',\n",
      "    'trail_percent': None,\n",
      "    'trail_price': None,\n",
      "    'type': 'limit',\n",
      "    'updated_at': '2022-08-01T19:56:15.714763Z'})]\n"
     ]
    }
   ],
   "source": [
    "orders=api.list_orders()\n",
    "print(orders)\n",
    "or"
   ]
  },
  {
   "cell_type": "code",
   "execution_count": null,
   "id": "d0f0a535",
   "metadata": {},
   "outputs": [],
   "source": [
    "account_history=[]\n",
    "for i in range(30):\n",
    "    account=api.get_account()\n",
    "    account_history.append(account)\n",
    "    time.sleep(10)\n",
    "for account in account_history:\n",
    "    print(account['equity'])\n",
    "    "
   ]
  },
  {
   "cell_type": "code",
   "execution_count": 36,
   "id": "eab60a07",
   "metadata": {},
   "outputs": [
    {
     "data": {
      "text/plain": [
       "Order({   'asset_class': 'us_equity',\n",
       "    'asset_id': 'b0b6dd9d-8b9b-48a9-ba46-b9d54906e415',\n",
       "    'canceled_at': None,\n",
       "    'client_order_id': '5dac03c0-4151-4a3b-a54e-523b47e7f690',\n",
       "    'created_at': '2022-08-01T20:01:44.758173856Z',\n",
       "    'expired_at': None,\n",
       "    'extended_hours': False,\n",
       "    'failed_at': None,\n",
       "    'filled_at': None,\n",
       "    'filled_avg_price': None,\n",
       "    'filled_qty': '0',\n",
       "    'hwm': None,\n",
       "    'id': '891c7416-8254-4c19-8fca-fb781e162662',\n",
       "    'legs': None,\n",
       "    'limit_price': '100',\n",
       "    'notional': None,\n",
       "    'order_class': '',\n",
       "    'order_type': 'limit',\n",
       "    'qty': '1',\n",
       "    'replaced_at': None,\n",
       "    'replaced_by': None,\n",
       "    'replaces': None,\n",
       "    'side': 'sell',\n",
       "    'source': None,\n",
       "    'status': 'accepted',\n",
       "    'stop_price': None,\n",
       "    'submitted_at': '2022-08-01T20:01:44.757446656Z',\n",
       "    'subtag': None,\n",
       "    'symbol': 'AAPL',\n",
       "    'time_in_force': 'gtc',\n",
       "    'trail_percent': None,\n",
       "    'trail_price': None,\n",
       "    'type': 'limit',\n",
       "    'updated_at': '2022-08-01T20:01:44.758173856Z'})"
      ]
     },
     "execution_count": 36,
     "metadata": {},
     "output_type": "execute_result"
    }
   ],
   "source": [
    "api.submit_order(\n",
    "  symbol='AAPL', # Replace with the ticker of the stock you want to buy\n",
    "  qty=1,\n",
    "  side='sell',\n",
    "  type='limit', \n",
    "  limit_price='100',\n",
    "  time_in_force='gtc' # Good 'til cancelled\n",
    ")"
   ]
  },
  {
   "cell_type": "code",
   "execution_count": 37,
   "id": "dccd2862",
   "metadata": {},
   "outputs": [
    {
     "name": "stderr",
     "output_type": "stream",
     "text": [
      "sleep 3 seconds and retrying https://data.alpaca.markets/v2/stocks/AAPL/trades 3 more time(s)...\n",
      "sleep 3 seconds and retrying https://data.alpaca.markets/v2/stocks/AAPL/trades 3 more time(s)...\n",
      "sleep 3 seconds and retrying https://data.alpaca.markets/v2/stocks/AAPL/trades 3 more time(s)...\n",
      "sleep 3 seconds and retrying https://data.alpaca.markets/v2/stocks/AAPL/trades 3 more time(s)...\n",
      "sleep 3 seconds and retrying https://data.alpaca.markets/v2/stocks/AAPL/trades 3 more time(s)...\n",
      "sleep 3 seconds and retrying https://data.alpaca.markets/v2/stocks/AAPL/trades 3 more time(s)...\n"
     ]
    },
    {
     "ename": "KeyboardInterrupt",
     "evalue": "",
     "output_type": "error",
     "traceback": [
      "\u001b[1;31m---------------------------------------------------------------------------\u001b[0m",
      "\u001b[1;31mHTTPError\u001b[0m                                 Traceback (most recent call last)",
      "\u001b[1;32m~\\anaconda3\\lib\\site-packages\\alpaca_trade_api\\rest.py\u001b[0m in \u001b[0;36m_one_request\u001b[1;34m(self, method, url, opts, retry)\u001b[0m\n\u001b[0;32m    233\u001b[0m         \u001b[1;32mtry\u001b[0m\u001b[1;33m:\u001b[0m\u001b[1;33m\u001b[0m\u001b[1;33m\u001b[0m\u001b[0m\n\u001b[1;32m--> 234\u001b[1;33m             \u001b[0mresp\u001b[0m\u001b[1;33m.\u001b[0m\u001b[0mraise_for_status\u001b[0m\u001b[1;33m(\u001b[0m\u001b[1;33m)\u001b[0m\u001b[1;33m\u001b[0m\u001b[1;33m\u001b[0m\u001b[0m\n\u001b[0m\u001b[0;32m    235\u001b[0m         \u001b[1;32mexcept\u001b[0m \u001b[0mHTTPError\u001b[0m \u001b[1;32mas\u001b[0m \u001b[0mhttp_error\u001b[0m\u001b[1;33m:\u001b[0m\u001b[1;33m\u001b[0m\u001b[1;33m\u001b[0m\u001b[0m\n",
      "\u001b[1;32m~\\anaconda3\\lib\\site-packages\\requests\\models.py\u001b[0m in \u001b[0;36mraise_for_status\u001b[1;34m(self)\u001b[0m\n\u001b[0;32m    942\u001b[0m         \u001b[1;32mif\u001b[0m \u001b[0mhttp_error_msg\u001b[0m\u001b[1;33m:\u001b[0m\u001b[1;33m\u001b[0m\u001b[1;33m\u001b[0m\u001b[0m\n\u001b[1;32m--> 943\u001b[1;33m             \u001b[1;32mraise\u001b[0m \u001b[0mHTTPError\u001b[0m\u001b[1;33m(\u001b[0m\u001b[0mhttp_error_msg\u001b[0m\u001b[1;33m,\u001b[0m \u001b[0mresponse\u001b[0m\u001b[1;33m=\u001b[0m\u001b[0mself\u001b[0m\u001b[1;33m)\u001b[0m\u001b[1;33m\u001b[0m\u001b[1;33m\u001b[0m\u001b[0m\n\u001b[0m\u001b[0;32m    944\u001b[0m \u001b[1;33m\u001b[0m\u001b[0m\n",
      "\u001b[1;31mHTTPError\u001b[0m: 429 Client Error: Too Many Requests for url: https://data.alpaca.markets/v2/stocks/AAPL/trades?page_token=QUFQTHwyMDIyLTA4LTAxVDE2OjI5OjEwLjY2NzAwMDAwMFp8RHwwOTIyMzM3MjAzNjg1NDgzNjA1OQ%3D%3D",
      "\nDuring handling of the above exception, another exception occurred:\n",
      "\u001b[1;31mRetryException\u001b[0m                            Traceback (most recent call last)",
      "\u001b[1;32m~\\anaconda3\\lib\\site-packages\\alpaca_trade_api\\rest.py\u001b[0m in \u001b[0;36m_request\u001b[1;34m(self, method, path, data, base_url, api_version)\u001b[0m\n\u001b[0;32m    212\u001b[0m             \u001b[1;32mtry\u001b[0m\u001b[1;33m:\u001b[0m\u001b[1;33m\u001b[0m\u001b[1;33m\u001b[0m\u001b[0m\n\u001b[1;32m--> 213\u001b[1;33m                 \u001b[1;32mreturn\u001b[0m \u001b[0mself\u001b[0m\u001b[1;33m.\u001b[0m\u001b[0m_one_request\u001b[0m\u001b[1;33m(\u001b[0m\u001b[0mmethod\u001b[0m\u001b[1;33m,\u001b[0m \u001b[0murl\u001b[0m\u001b[1;33m,\u001b[0m \u001b[0mopts\u001b[0m\u001b[1;33m,\u001b[0m \u001b[0mretry\u001b[0m\u001b[1;33m)\u001b[0m\u001b[1;33m\u001b[0m\u001b[1;33m\u001b[0m\u001b[0m\n\u001b[0m\u001b[0;32m    214\u001b[0m             \u001b[1;32mexcept\u001b[0m \u001b[0mRetryException\u001b[0m\u001b[1;33m:\u001b[0m\u001b[1;33m\u001b[0m\u001b[1;33m\u001b[0m\u001b[0m\n",
      "\u001b[1;32m~\\anaconda3\\lib\\site-packages\\alpaca_trade_api\\rest.py\u001b[0m in \u001b[0;36m_one_request\u001b[1;34m(self, method, url, opts, retry)\u001b[0m\n\u001b[0;32m    237\u001b[0m             \u001b[1;32mif\u001b[0m \u001b[0mresp\u001b[0m\u001b[1;33m.\u001b[0m\u001b[0mstatus_code\u001b[0m \u001b[1;32min\u001b[0m \u001b[0mretry_codes\u001b[0m \u001b[1;32mand\u001b[0m \u001b[0mretry\u001b[0m \u001b[1;33m>\u001b[0m \u001b[1;36m0\u001b[0m\u001b[1;33m:\u001b[0m\u001b[1;33m\u001b[0m\u001b[1;33m\u001b[0m\u001b[0m\n\u001b[1;32m--> 238\u001b[1;33m                 \u001b[1;32mraise\u001b[0m \u001b[0mRetryException\u001b[0m\u001b[1;33m(\u001b[0m\u001b[1;33m)\u001b[0m\u001b[1;33m\u001b[0m\u001b[1;33m\u001b[0m\u001b[0m\n\u001b[0m\u001b[0;32m    239\u001b[0m             \u001b[1;32mif\u001b[0m \u001b[1;34m'code'\u001b[0m \u001b[1;32min\u001b[0m \u001b[0mresp\u001b[0m\u001b[1;33m.\u001b[0m\u001b[0mtext\u001b[0m\u001b[1;33m:\u001b[0m\u001b[1;33m\u001b[0m\u001b[1;33m\u001b[0m\u001b[0m\n",
      "\u001b[1;31mRetryException\u001b[0m: ",
      "\nDuring handling of the above exception, another exception occurred:\n",
      "\u001b[1;31mKeyboardInterrupt\u001b[0m                         Traceback (most recent call last)",
      "\u001b[1;32m<ipython-input-37-ca543980cbab>\u001b[0m in \u001b[0;36m<module>\u001b[1;34m\u001b[0m\n\u001b[1;32m----> 1\u001b[1;33m \u001b[0mhistory\u001b[0m\u001b[1;33m=\u001b[0m\u001b[0mapi\u001b[0m\u001b[1;33m.\u001b[0m\u001b[0mget_trades\u001b[0m\u001b[1;33m(\u001b[0m\u001b[1;34m'AAPL'\u001b[0m\u001b[1;33m)\u001b[0m\u001b[1;33m\u001b[0m\u001b[1;33m\u001b[0m\u001b[0m\n\u001b[0m",
      "\u001b[1;32m~\\anaconda3\\lib\\site-packages\\alpaca_trade_api\\rest.py\u001b[0m in \u001b[0;36mget_trades\u001b[1;34m(self, symbol, start, end, limit, feed, asof)\u001b[0m\n\u001b[0;32m    630\u001b[0m                    \u001b[0masof\u001b[0m\u001b[1;33m:\u001b[0m \u001b[0mOptional\u001b[0m\u001b[1;33m[\u001b[0m\u001b[0mstr\u001b[0m\u001b[1;33m]\u001b[0m \u001b[1;33m=\u001b[0m \u001b[1;32mNone\u001b[0m\u001b[1;33m,\u001b[0m\u001b[1;33m\u001b[0m\u001b[1;33m\u001b[0m\u001b[0m\n\u001b[0;32m    631\u001b[0m                    ) -> TradesV2:\n\u001b[1;32m--> 632\u001b[1;33m         trades = list(self.get_trades_iter(symbol,\n\u001b[0m\u001b[0;32m    633\u001b[0m                                            \u001b[0mstart\u001b[0m\u001b[1;33m=\u001b[0m\u001b[0mstart\u001b[0m\u001b[1;33m,\u001b[0m\u001b[1;33m\u001b[0m\u001b[1;33m\u001b[0m\u001b[0m\n\u001b[0;32m    634\u001b[0m                                            \u001b[0mend\u001b[0m\u001b[1;33m=\u001b[0m\u001b[0mend\u001b[0m\u001b[1;33m,\u001b[0m\u001b[1;33m\u001b[0m\u001b[1;33m\u001b[0m\u001b[0m\n",
      "\u001b[1;32m~\\anaconda3\\lib\\site-packages\\alpaca_trade_api\\rest.py\u001b[0m in \u001b[0;36mget_trades_iter\u001b[1;34m(self, symbol, start, end, limit, feed, asof, raw)\u001b[0m\n\u001b[0;32m    616\u001b[0m                                 \u001b[0masof\u001b[0m\u001b[1;33m=\u001b[0m\u001b[0masof\u001b[0m\u001b[1;33m,\u001b[0m\u001b[1;33m\u001b[0m\u001b[1;33m\u001b[0m\u001b[0m\n\u001b[0;32m    617\u001b[0m                                 )\n\u001b[1;32m--> 618\u001b[1;33m         \u001b[1;32mfor\u001b[0m \u001b[0mtrade\u001b[0m \u001b[1;32min\u001b[0m \u001b[0mtrades\u001b[0m\u001b[1;33m:\u001b[0m\u001b[1;33m\u001b[0m\u001b[1;33m\u001b[0m\u001b[0m\n\u001b[0m\u001b[0;32m    619\u001b[0m             \u001b[1;32mif\u001b[0m \u001b[0mraw\u001b[0m\u001b[1;33m:\u001b[0m\u001b[1;33m\u001b[0m\u001b[1;33m\u001b[0m\u001b[0m\n\u001b[0;32m    620\u001b[0m                 \u001b[1;32myield\u001b[0m \u001b[0mtrade\u001b[0m\u001b[1;33m\u001b[0m\u001b[1;33m\u001b[0m\u001b[0m\n",
      "\u001b[1;32m~\\anaconda3\\lib\\site-packages\\alpaca_trade_api\\rest.py\u001b[0m in \u001b[0;36m_data_get\u001b[1;34m(self, endpoint, symbol_or_symbols, api_version, endpoint_base, resp_grouped_by_symbol, page_limit, feed, asof, **kwargs)\u001b[0m\n\u001b[0;32m    583\u001b[0m             \u001b[1;32mif\u001b[0m \u001b[0mendpoint\u001b[0m\u001b[1;33m:\u001b[0m\u001b[1;33m\u001b[0m\u001b[1;33m\u001b[0m\u001b[0m\n\u001b[0;32m    584\u001b[0m                 \u001b[0mpath\u001b[0m \u001b[1;33m+=\u001b[0m \u001b[1;34mf'/{endpoint}'\u001b[0m\u001b[1;33m\u001b[0m\u001b[1;33m\u001b[0m\u001b[0m\n\u001b[1;32m--> 585\u001b[1;33m             resp = self.data_get(path, data=data, feed=feed,\n\u001b[0m\u001b[0;32m    586\u001b[0m                                  api_version=api_version)\n\u001b[0;32m    587\u001b[0m             \u001b[1;32mif\u001b[0m \u001b[1;32mnot\u001b[0m \u001b[0mresp_grouped_by_symbol\u001b[0m\u001b[1;33m:\u001b[0m\u001b[1;33m\u001b[0m\u001b[1;33m\u001b[0m\u001b[0m\n",
      "\u001b[1;32m~\\anaconda3\\lib\\site-packages\\alpaca_trade_api\\rest.py\u001b[0m in \u001b[0;36mdata_get\u001b[1;34m(self, path, data, feed, api_version)\u001b[0m\n\u001b[0;32m    268\u001b[0m             \u001b[0mdata\u001b[0m \u001b[1;33m=\u001b[0m \u001b[0mdata\u001b[0m \u001b[1;32mor\u001b[0m \u001b[1;33m{\u001b[0m\u001b[1;33m}\u001b[0m\u001b[1;33m\u001b[0m\u001b[1;33m\u001b[0m\u001b[0m\n\u001b[0;32m    269\u001b[0m             \u001b[0mdata\u001b[0m\u001b[1;33m[\u001b[0m\u001b[1;34m'feed'\u001b[0m\u001b[1;33m]\u001b[0m \u001b[1;33m=\u001b[0m \u001b[0mfeed\u001b[0m\u001b[1;33m\u001b[0m\u001b[1;33m\u001b[0m\u001b[0m\n\u001b[1;32m--> 270\u001b[1;33m         return self._request(\n\u001b[0m\u001b[0;32m    271\u001b[0m             \u001b[1;34m'GET'\u001b[0m\u001b[1;33m,\u001b[0m \u001b[0mpath\u001b[0m\u001b[1;33m,\u001b[0m \u001b[0mdata\u001b[0m\u001b[1;33m,\u001b[0m \u001b[0mbase_url\u001b[0m\u001b[1;33m=\u001b[0m\u001b[0mbase_url\u001b[0m\u001b[1;33m,\u001b[0m \u001b[0mapi_version\u001b[0m\u001b[1;33m=\u001b[0m\u001b[0mapi_version\u001b[0m\u001b[1;33m,\u001b[0m\u001b[1;33m\u001b[0m\u001b[1;33m\u001b[0m\u001b[0m\n\u001b[0;32m    272\u001b[0m         )\n",
      "\u001b[1;32m~\\anaconda3\\lib\\site-packages\\alpaca_trade_api\\rest.py\u001b[0m in \u001b[0;36m_request\u001b[1;34m(self, method, path, data, base_url, api_version)\u001b[0m\n\u001b[0;32m    218\u001b[0m                     '{} more time(s)...'.format(\n\u001b[0;32m    219\u001b[0m                         retry_wait, url, retry))\n\u001b[1;32m--> 220\u001b[1;33m                 \u001b[0mtime\u001b[0m\u001b[1;33m.\u001b[0m\u001b[0msleep\u001b[0m\u001b[1;33m(\u001b[0m\u001b[0mretry_wait\u001b[0m\u001b[1;33m)\u001b[0m\u001b[1;33m\u001b[0m\u001b[1;33m\u001b[0m\u001b[0m\n\u001b[0m\u001b[0;32m    221\u001b[0m                 \u001b[0mretry\u001b[0m \u001b[1;33m-=\u001b[0m \u001b[1;36m1\u001b[0m\u001b[1;33m\u001b[0m\u001b[1;33m\u001b[0m\u001b[0m\n\u001b[0;32m    222\u001b[0m                 \u001b[1;32mcontinue\u001b[0m\u001b[1;33m\u001b[0m\u001b[1;33m\u001b[0m\u001b[0m\n",
      "\u001b[1;31mKeyboardInterrupt\u001b[0m: "
     ]
    }
   ],
   "source": [
    "history=api.get_trades('AAPL')"
   ]
  },
  {
   "cell_type": "code",
   "execution_count": null,
   "id": "76046d1b",
   "metadata": {},
   "outputs": [],
   "source": []
  }
 ],
 "metadata": {
  "kernelspec": {
   "display_name": "Python 3",
   "language": "python",
   "name": "python3"
  },
  "language_info": {
   "codemirror_mode": {
    "name": "ipython",
    "version": 3
   },
   "file_extension": ".py",
   "mimetype": "text/x-python",
   "name": "python",
   "nbconvert_exporter": "python",
   "pygments_lexer": "ipython3",
   "version": "3.8.8"
  }
 },
 "nbformat": 4,
 "nbformat_minor": 5
}
